{
  "nbformat": 4,
  "nbformat_minor": 0,
  "metadata": {
    "colab": {
      "provenance": [],
      "authorship_tag": "ABX9TyOm9g7KQVRlH/itJApUYlR5",
      "include_colab_link": true
    },
    "kernelspec": {
      "name": "python3",
      "display_name": "Python 3"
    },
    "language_info": {
      "name": "python"
    }
  },
  "cells": [
    {
      "cell_type": "markdown",
      "metadata": {
        "id": "view-in-github",
        "colab_type": "text"
      },
      "source": [
        "<a href=\"https://colab.research.google.com/github/KokosGarbuz/hw7bl3/blob/main/Untitled0.ipynb\" target=\"_parent\"><img src=\"https://colab.research.google.com/assets/colab-badge.svg\" alt=\"Open In Colab\"/></a>"
      ]
    },
    {
      "cell_type": "code",
      "execution_count": 1,
      "metadata": {
        "colab": {
          "base_uri": "https://localhost:8080/"
        },
        "id": "HCfQ_a7eUdOV",
        "outputId": "d29cdcec-0f05-4ebb-d15c-9be99b96922e"
      },
      "outputs": [
        {
          "output_type": "stream",
          "name": "stdout",
          "text": [
            "Collecting scikit-surprise\n",
            "  Downloading scikit-surprise-1.1.3.tar.gz (771 kB)\n",
            "\u001b[2K     \u001b[90m━━━━━━━━━━━━━━━━━━━━━━━━━━━━━━━━━━━━━━━━\u001b[0m \u001b[32m772.0/772.0 kB\u001b[0m \u001b[31m4.0 MB/s\u001b[0m eta \u001b[36m0:00:00\u001b[0m\n",
            "\u001b[?25h  Preparing metadata (setup.py) ... \u001b[?25l\u001b[?25hdone\n",
            "Requirement already satisfied: joblib>=1.0.0 in /usr/local/lib/python3.10/dist-packages (from scikit-surprise) (1.3.2)\n",
            "Requirement already satisfied: numpy>=1.17.3 in /usr/local/lib/python3.10/dist-packages (from scikit-surprise) (1.25.2)\n",
            "Requirement already satisfied: scipy>=1.3.2 in /usr/local/lib/python3.10/dist-packages (from scikit-surprise) (1.11.4)\n",
            "Building wheels for collected packages: scikit-surprise\n",
            "  Building wheel for scikit-surprise (setup.py) ... \u001b[?25l\u001b[?25hdone\n",
            "  Created wheel for scikit-surprise: filename=scikit_surprise-1.1.3-cp310-cp310-linux_x86_64.whl size=3162742 sha256=f8088756f2f785177023020598f3c9521ab69fc0cb5d88d6bf730f8edfffb011\n",
            "  Stored in directory: /root/.cache/pip/wheels/a5/ca/a8/4e28def53797fdc4363ca4af740db15a9c2f1595ebc51fb445\n",
            "Successfully built scikit-surprise\n",
            "Installing collected packages: scikit-surprise\n",
            "Successfully installed scikit-surprise-1.1.3\n"
          ]
        }
      ],
      "source": [
        "pip install scikit-surprise"
      ]
    },
    {
      "cell_type": "code",
      "source": [
        "from surprise import Dataset, Reader\n",
        "from surprise.model_selection import cross_validate\n",
        "from surprise.prediction_algorithms import SVD, SVDpp, NMF\n",
        "\n",
        "# Завантаження датасету movielens\n",
        "data = Dataset.load_builtin('ml-100k')\n",
        "\n",
        "# Конфігурація рейтингів\n",
        "reader = Reader(rating_scale=(1, 5))\n",
        "\n",
        "# Отримання тренувального набору даних\n",
        "trainset = data.build_full_trainset()\n",
        "\n",
        "# Перевірка різних алгоритмів\n",
        "algos = [SVD(), SVDpp(), NMF()]\n",
        "\n",
        "for algo in algos:\n",
        "    results = cross_validate(algo, data, measures=['RMSE', 'MAE'], cv=5, verbose=True)\n",
        "    print(f'{algo.__class__.__name__}:')\n",
        "    for key, value in results.items():\n",
        "        if key != 'fit_time' and key != 'test_time':\n",
        "            print(f'{key}: {sum(value)/len(value)}')\n"
      ],
      "metadata": {
        "colab": {
          "base_uri": "https://localhost:8080/"
        },
        "id": "8ZVI5GMuVFNR",
        "outputId": "e6442875-4de1-4d92-ad7d-738dbdda90b1"
      },
      "execution_count": 4,
      "outputs": [
        {
          "output_type": "stream",
          "name": "stdout",
          "text": [
            "Evaluating RMSE, MAE of algorithm SVD on 5 split(s).\n",
            "\n",
            "                  Fold 1  Fold 2  Fold 3  Fold 4  Fold 5  Mean    Std     \n",
            "RMSE (testset)    0.9403  0.9347  0.9374  0.9323  0.9291  0.9348  0.0039  \n",
            "MAE (testset)     0.7411  0.7361  0.7404  0.7342  0.7330  0.7369  0.0032  \n",
            "Fit time          1.38    1.36    1.71    1.49    1.53    1.49    0.13    \n",
            "Test time         0.12    0.21    0.16    0.21    0.20    0.18    0.03    \n",
            "SVD:\n",
            "test_rmse: 0.9347700147231806\n",
            "test_mae: 0.7369424908779478\n",
            "Evaluating RMSE, MAE of algorithm SVDpp on 5 split(s).\n",
            "\n",
            "                  Fold 1  Fold 2  Fold 3  Fold 4  Fold 5  Mean    Std     \n",
            "RMSE (testset)    0.9235  0.9127  0.9070  0.9310  0.9190  0.9186  0.0084  \n",
            "MAE (testset)     0.7226  0.7147  0.7128  0.7322  0.7230  0.7210  0.0069  \n",
            "Fit time          29.80   27.37   27.20   26.96   28.07   27.88   1.03    \n",
            "Test time         4.82    4.56    5.31    4.99    5.27    4.99    0.28    \n",
            "SVDpp:\n",
            "test_rmse: 0.9186306183552819\n",
            "test_mae: 0.7210430337953695\n",
            "Evaluating RMSE, MAE of algorithm NMF on 5 split(s).\n",
            "\n",
            "                  Fold 1  Fold 2  Fold 3  Fold 4  Fold 5  Mean    Std     \n",
            "RMSE (testset)    0.9727  0.9625  0.9593  0.9620  0.9674  0.9648  0.0047  \n",
            "MAE (testset)     0.7667  0.7595  0.7530  0.7578  0.7587  0.7591  0.0044  \n",
            "Fit time          2.83    3.10    2.95    2.85    2.76    2.90    0.12    \n",
            "Test time         0.29    0.20    0.29    0.12    0.33    0.24    0.08    \n",
            "NMF:\n",
            "test_rmse: 0.9647691023007241\n",
            "test_mae: 0.7591312558795582\n"
          ]
        }
      ]
    }
  ]
}